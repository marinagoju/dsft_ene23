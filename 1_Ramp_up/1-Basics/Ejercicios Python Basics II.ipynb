{
 "cells": [
  {
   "cell_type": "markdown",
   "metadata": {},
   "source": [
    "![imagen](./img/ejercicios.png)"
   ]
  },
  {
   "cell_type": "markdown",
   "metadata": {},
   "source": [
    "# Ejercicios Python Basics II"
   ]
  },
  {
   "cell_type": "markdown",
   "metadata": {},
   "source": [
    "## Ejercicio 1\n",
    "* Crea dos variables numericas: un `int` y un `float`\n",
    "* Comprueba sus tipos\n",
    "* Sumalas en otra nueva\n",
    "* ¿De qué tipo es la nueva variable?\n",
    "* Elimina las dos primeras variables creadas"
   ]
  },
  {
   "cell_type": "code",
   "execution_count": 1,
   "metadata": {},
   "outputs": [
    {
     "name": "stdout",
     "output_type": "stream",
     "text": [
      "<class 'int'>\n",
      "<class 'float'>\n",
      "<class 'float'>\n",
      "10.0\n"
     ]
    }
   ],
   "source": [
    "var1 = 4\n",
    "var2 = 6.0\n",
    "\n",
    "print(type(var1))\n",
    "print(type(var2))\n",
    "\n",
    "var3 = var1 + var2\n",
    "\n",
    "print(type(var3))\n",
    "print(var3)\n",
    "\n",
    "del var1, var2 "
   ]
  },
  {
   "cell_type": "markdown",
   "metadata": {},
   "source": [
    "## Ejercicio 2\n",
    "Escribe un programa para pasar de grados a radianes. Hay que usar `input`. Recuerda que la conversión se realiza mediante\n",
    "\n",
    "radianes = grados*(pi/180)"
   ]
  },
  {
   "cell_type": "code",
   "execution_count": 2,
   "metadata": {},
   "outputs": [
    {
     "name": "stdout",
     "output_type": "stream",
     "text": [
      "6.285714285714286\n"
     ]
    }
   ],
   "source": [
    "pi=22/7\n",
    "degree = float(input(\"Input grados: \"))\n",
    "radian = degree*(pi/180)\n",
    "print(radian)"
   ]
  },
  {
   "cell_type": "markdown",
   "metadata": {},
   "source": [
    "## Ejercicio 3\n",
    "Escribe un programa que calcule el area de un paralelogramo (base x altura). También con `input`"
   ]
  },
  {
   "cell_type": "code",
   "execution_count": 1,
   "metadata": {},
   "outputs": [
    {
     "name": "stdin",
     "output_type": "stream",
     "text": [
      "Length of base:  5\n",
      "Measurement of height:  3\n"
     ]
    },
    {
     "name": "stdout",
     "output_type": "stream",
     "text": [
      "Area is:  15.0\n"
     ]
    }
   ],
   "source": [
    "base = float(input('Length of base: '))\n",
    "height = float(input('Measurement of height: '))\n",
    "\n",
    "area = base * height\n",
    "print(\"Area is: \", area)"
   ]
  },
  {
   "cell_type": "code",
   "execution_count": 2,
   "metadata": {},
   "outputs": [
    {
     "name": "stdin",
     "output_type": "stream",
     "text": [
      " 5\n"
     ]
    },
    {
     "name": "stdout",
     "output_type": "stream",
     "text": [
      "5\n"
     ]
    }
   ],
   "source": [
    "s = input()\n",
    "print(s)"
   ]
  },
  {
   "cell_type": "code",
   "execution_count": 4,
   "metadata": {},
   "outputs": [
    {
     "name": "stdin",
     "output_type": "stream",
     "text": [
      "introduce un nuero:  7\n"
     ]
    },
    {
     "name": "stdout",
     "output_type": "stream",
     "text": [
      "7\n"
     ]
    }
   ],
   "source": [
    "s = input(\"introduce un nuero: \")\n",
    "print(s)"
   ]
  },
  {
   "cell_type": "markdown",
   "metadata": {},
   "source": [
    "## Ejercicio 4\n",
    "Tenemos las siguientes variables:\n",
    "\n",
    "```Python\n",
    "A = 4\n",
    "B = \"Text\"\n",
    "C = 4.1\n",
    "```\n",
    "\n",
    "Comprueba:\n",
    "1. Si A y B son equivalentes\n",
    "2. Si A y C NO son equivalentes\n",
    "3. Si A es mayor que C \n",
    "4. Si C es menor o igual que A\n",
    "5. Si B NO es equivalente a C"
   ]
  },
  {
   "cell_type": "code",
   "execution_count": 4,
   "metadata": {},
   "outputs": [
    {
     "name": "stdout",
     "output_type": "stream",
     "text": [
      "False\n",
      "True\n",
      "False\n",
      "False\n",
      "True\n"
     ]
    }
   ],
   "source": [
    "A = 4\n",
    "B = \"Text\"\n",
    "C = 4.1\n",
    "\n",
    "print(A == B)\n",
    "print(A != C)\n",
    "print(A > C)\n",
    "print(C <= A)\n",
    "print(B != C)"
   ]
  },
  {
   "cell_type": "code",
   "execution_count": null,
   "metadata": {},
   "outputs": [],
   "source": [
    " A is None # ==\n",
    "type()\n"
   ]
  },
  {
   "cell_type": "markdown",
   "metadata": {},
   "source": [
    "## Ejercicio 5\n",
    "Crea un programa donde se recojan dos inputs del usuario, y el output del programa sea si esos inputs son iguales o no"
   ]
  },
  {
   "cell_type": "code",
   "execution_count": 5,
   "metadata": {},
   "outputs": [
    {
     "name": "stdin",
     "output_type": "stream",
     "text": [
      "Input 1:  6\n",
      "Input 2:  6\n"
     ]
    },
    {
     "name": "stdout",
     "output_type": "stream",
     "text": [
      "True\n"
     ]
    }
   ],
   "source": [
    "inp_1 = input(\"Input 1: \")\n",
    "inp_2 = input(\"Input 2: \")\n",
    "print(inp_1 == inp_2)"
   ]
  },
  {
   "cell_type": "markdown",
   "metadata": {},
   "source": [
    "## Ejercicio 6\n",
    "Mismo programa que en 5, pero en esta ocasión tienen que ser tres inputs y dos salidas. Una de las salidas que nos indique si todos son iguales, y la otra si al menos dos inputs sí que lo son"
   ]
  },
  {
   "cell_type": "code",
   "execution_count": 6,
   "metadata": {},
   "outputs": [
    {
     "name": "stdout",
     "output_type": "stream",
     "text": [
      "Todos son iguales: False\n",
      "Todos son iguales: True\n"
     ]
    }
   ],
   "source": [
    "inp_1 = input(\"Input 1: \")\n",
    "inp_2 = input(\"Input 2: \")\n",
    "inp_3 = input(\"Input 3: \")\n",
    "\n",
    "todos = inp_1 == inp_2 and inp_1 == inp_3 #and inp_2 == inp_3\n",
    "print(\"Todos son iguales:\", todos)\n",
    "\n",
    "dos = inp_1 == inp_2 or inp_1 == inp_3 or inp_2 == inp_3\n",
    "print(\"Todos son iguales:\", dos)"
   ]
  },
  {
   "cell_type": "code",
   "execution_count": null,
   "metadata": {},
   "outputs": [],
   "source": [
    "a == b == c"
   ]
  },
  {
   "cell_type": "markdown",
   "metadata": {},
   "source": [
    "## Ejercicio 7\n",
    "Crea un programa que recoja dos inputs. Tiene que comprobar si su suma es igual, superior o inferior a 10"
   ]
  },
  {
   "cell_type": "code",
   "execution_count": 4,
   "metadata": {},
   "outputs": [
    {
     "name": "stdout",
     "output_type": "stream",
     "text": [
      "Es mayor que 10: False\n",
      "Es menor que 10: True\n",
      "Es igual que 10: False\n"
     ]
    }
   ],
   "source": [
    "inp_1 = input(\"Input 1: \")\n",
    "inp_2 = input(\"Input 2: \")\n",
    "\n",
    "suma = float(inp_1) + float(inp_2)\n",
    "\n",
    "print(\"Es mayor que 10:\", suma > 10)\n",
    "print(\"Es menor que 10:\", suma < 10)\n",
    "print(\"Es igual que 10:\", suma == 10)"
   ]
  },
  {
   "cell_type": "markdown",
   "metadata": {},
   "source": [
    "## Ejercicio 8\n",
    "Razona sin ejecutar código el output que obtendremos de las siguientes sentencias\n",
    "1. True and True and False\n",
    "2. not ((True or False) and (True or False))\n",
    "3. (False or False or False or True) and False\n",
    "4. not False and True and not True"
   ]
  },
  {
   "cell_type": "markdown",
   "metadata": {},
   "source": [
    "# todo falso"
   ]
  },
  {
   "cell_type": "markdown",
   "metadata": {},
   "source": [
    "## Ejercicio 9\n",
    "Para este ejercicio vamos a poner en práctica [las funciones built in](https://docs.python.org/3/library/functions.html).\n",
    "\n",
    "1. Calcula el máximo de la lista: [4, 6, 8, -1]\n",
    "2. Suma todos los elementos de la lista anterior\n",
    "3. Redondea este float a 3 dígitos decimales: 63.451256965\n",
    "4. Valor absoluto de: -74"
   ]
  },
  {
   "cell_type": "code",
   "execution_count": 6,
   "metadata": {},
   "outputs": [
    {
     "name": "stdout",
     "output_type": "stream",
     "text": [
      "8\n",
      "17\n",
      "63.451\n",
      "74\n",
      "74.0\n",
      "74\n"
     ]
    }
   ],
   "source": [
    "print(max([4, 6, 8, -1]))\n",
    "print(sum([4, 6, 8, -1]))\n",
    "print(round(63.451256965, 3))\n",
    "print(abs(-74))\n",
    "\n",
    "# Valor absoluto\n",
    "print(abs(-74.0))\n",
    "import math\n",
    "print(int(math.fabs(-74)))"
   ]
  },
  {
   "cell_type": "markdown",
   "metadata": {},
   "source": [
    "## Ejercicio 10\n",
    "Para el siguiente string se pide imprimir por pantalla los siguientes casos\n",
    "\n",
    "    \"A quien madruga, dios le ayuda\"\n",
    "\n",
    "1. Pasarlo todo a mayusculas\n",
    "2. Pasarlo todo a minusculas\n",
    "3. Solo la primera letra de cada palabra en mayúscula, el resto en minúscula\n",
    "4. Crea una lista dividiendolo por sus espacios\n",
    "5. Sustituye las comas `,` por puntos y comas `;`\n",
    "6. Elimina las `a` minusculas"
   ]
  },
  {
   "cell_type": "code",
   "execution_count": 9,
   "metadata": {},
   "outputs": [
    {
     "name": "stdout",
     "output_type": "stream",
     "text": [
      "A QUIEN MADRUGA, DIOS LE AYUDA\n",
      "a quien madruga, dios le ayuda\n",
      "A Quien Madruga, Dios Le Ayuda\n",
      "['A', 'quien', 'madruga,', 'dios', 'le', 'ayuda']\n",
      "A quien madruga; dios le ayuda\n",
      "A quien mdrug, dios le yud\n"
     ]
    }
   ],
   "source": [
    "ej_10 = \"A quien madruga, dios le ayuda\"\n",
    "print(ej_10.upper())\n",
    "print(ej_10.lower())\n",
    "print(ej_10.title())\n",
    "print(ej_10.split(' '))\n",
    "print(ej_10.replace(',', ';'))\n",
    "print(ej_10.replace('a', ''))\n"
   ]
  },
  {
   "cell_type": "code",
   "execution_count": null,
   "metadata": {},
   "outputs": [],
   "source": [
    "mi_string = \"lalala\"\n",
    "mi_string = mi_string.upper()\n",
    "mi_string"
   ]
  },
  {
   "cell_type": "markdown",
   "metadata": {},
   "source": [
    "## Ejercicio 11\n",
    "1. Crea una lista con 3 elementos numéricos\n",
    "2. Añade un cuarto elemento\n",
    "3. Calcula la suma de todos\n",
    "4. Elimina el segundo elemento de la lista\n",
    "5. Añade otro elemento en la posicion 3 de la lista\n",
    "6. Crea otra lista con 4 elementos y concaténala a la que ya tenías."
   ]
  },
  {
   "cell_type": "code",
   "execution_count": 7,
   "metadata": {},
   "outputs": [
    {
     "name": "stdout",
     "output_type": "stream",
     "text": [
      "20\n",
      "[1, 3, 4]\n",
      "[1, 3, 5, 4]\n",
      "[1, 3, 5, 4, 6, 7, 8, 9]\n"
     ]
    }
   ],
   "source": [
    "list_11 = [1, 12, 3]\n",
    "list_11.append(4)\n",
    "print(sum(list_11))\n",
    "\n",
    "list_11.remove(12) # list_11.pop(1)\n",
    "print(list_11)\n",
    "\n",
    "list_11.insert(2, 5)\n",
    "print(list_11)\n",
    "\n",
    "list_11_2 = [6, 7, 8, 9]\n",
    "print(list_11 + list_11_2)"
   ]
  },
  {
   "cell_type": "code",
   "execution_count": 13,
   "metadata": {},
   "outputs": [
    {
     "name": "stdout",
     "output_type": "stream",
     "text": [
      "['SEAT', 'SEAT', 'Audi', 'Renault']\n"
     ]
    }
   ],
   "source": [
    "lista = ['VW', 'SEAT', 'SEAT', 'VW', 'VW', 'Audi', 'Renault', 'VW']\n",
    "\n",
    "while 'VW' in lista:\n",
    "    lista.remove('VW')\n",
    "    \n",
    "print(lista)"
   ]
  },
  {
   "cell_type": "code",
   "execution_count": 10,
   "metadata": {},
   "outputs": [
    {
     "name": "stdout",
     "output_type": "stream",
     "text": [
      "['SEAT', 'SEAT', 'Audi', 'Renault']\n"
     ]
    }
   ],
   "source": [
    "lista_nueva = []\n",
    "for elemento in lista:\n",
    "    if elemento != \"VW\":\n",
    "        lista_nueva.append(elemento)\n",
    "print(lista_nueva)"
   ]
  },
  {
   "cell_type": "code",
   "execution_count": 19,
   "metadata": {},
   "outputs": [
    {
     "name": "stdout",
     "output_type": "stream",
     "text": [
      "estudiando el elemento VW\n",
      "estudiando el elemento SEAT\n",
      "estudiando el elemento SEAT\n",
      "estudiando el elemento VW\n",
      "estudiando el elemento VW\n",
      "estudiando el elemento Audi\n",
      "estudiando el elemento Renault\n",
      "estudiando el elemento VW\n",
      "original ['VW', 'SEAT', 'SEAT', 'VW', 'VW', 'Audi', 'Renault', 'VW']\n",
      "final ['SEAT', 'SEAT', 'Audi', 'Renault']\n"
     ]
    }
   ],
   "source": [
    "lista = ['VW', 'SEAT', 'SEAT', 'VW', 'VW', 'Audi', 'Renault', 'VW']\n",
    "otra_lista = lista.copy()\n",
    "\n",
    "for elemento in lista: \n",
    "    print(\"estudiando el elemento\", elemento)\n",
    "    \n",
    "    if elemento == \"VW\":\n",
    "        #print(\"antes de borrar\", otra_lista)\n",
    "        otra_lista.remove(elemento)\n",
    "        #print(\"después de borrar\", otra_lista)\n",
    "        \n",
    "print(\"original\", lista)    \n",
    "print(\"final\", otra_lista)\n"
   ]
  },
  {
   "cell_type": "code",
   "execution_count": null,
   "metadata": {},
   "outputs": [],
   "source": []
  },
  {
   "cell_type": "code",
   "execution_count": 12,
   "metadata": {},
   "outputs": [
    {
     "name": "stdout",
     "output_type": "stream",
     "text": [
      "['SEAT', 'SEAT', 'Audi', 'Renault']\n"
     ]
    }
   ],
   "source": [
    "print(lista)"
   ]
  },
  {
   "cell_type": "code",
   "execution_count": null,
   "metadata": {},
   "outputs": [],
   "source": [
    "# 0   1    2    3\n",
    "# VW  VW   AUDI VW\n",
    "\n",
    "n = 0\n",
    "0   1   2\n",
    "WV  AUDI  VW\n",
    "\n",
    "n = 1"
   ]
  }
 ],
 "metadata": {
  "kernelspec": {
   "display_name": "Python 3 (ipykernel)",
   "language": "python",
   "name": "python3"
  },
  "language_info": {
   "codemirror_mode": {
    "name": "ipython",
    "version": 3
   },
   "file_extension": ".py",
   "mimetype": "text/x-python",
   "name": "python",
   "nbconvert_exporter": "python",
   "pygments_lexer": "ipython3",
   "version": "3.9.7"
  },
  "vscode": {
   "interpreter": {
    "hash": "252189e587d1e2aeba4a06e91fa71896c7a7f6e22e918b9407c7cde4ef2d5985"
   }
  }
 },
 "nbformat": 4,
 "nbformat_minor": 4
}
