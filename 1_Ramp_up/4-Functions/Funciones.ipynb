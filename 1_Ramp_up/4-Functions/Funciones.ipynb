{
 "cells": [
  {
   "cell_type": "markdown",
   "metadata": {},
   "source": [
    "![imagen](./img/python.jpg)"
   ]
  },
  {
   "cell_type": "markdown",
   "metadata": {},
   "source": [
    "# Funciones en Python\n",
    "\n",
    "\n",
    "En este Notebook tienes una guía completa para orientarte en el uso de funciones en Python.\n",
    "\n",
    "Se trata de bloques de código que encapsulan una serie de operaciones. Se usan para modular nuestro código y evitar escribir código de más.\n",
    "\n",
    "1. [Definición, sintaxis y return](#1.-Definición,-sintaxis-y-return)\n",
    "2. [Argumentos posicionales](#2.-Argumentos-posicionales)\n",
    "3. [Argumentos variables](#3.-Argumentos-variables)\n",
    "4. [Argumentos keyword](#4.-Argumentos-keyword)\n",
    "5. [Recursividad](#5.-Recursividad)\n",
    "6. [Documentar funciones](#6.-Documentar-funciones)\n",
    "7. [Resumen](#7.-Resumen)"
   ]
  },
  {
   "cell_type": "markdown",
   "metadata": {},
   "source": [
    "## 1. Definición, sintaxis y return\n",
    "Mediante las **funciones** podemos encapsular código en formato entrada/salida. Por lo que si tienes un código repetitivo, que depende de ciertos inputs, las funciones pueden ser una buena solución.\n",
    "\n",
    "![imagen](./img/funciones.png)\n",
    "\n",
    "Es una manera de agrupar conjuntos de operaciones en módulos. **¿Cuándo usarlas?** Cuando tengamos varias operaciones que ejecutamos repetidamente en distintas partes del código. En ese caso, encapsulamos las operaciones en una función, y cada vez que haya que realizar tal operativa, llamamos a la función, y en una sola línea de código tenemos ejecutada esas operaciones.\n",
    "\n",
    "Hasta ahora hemos estado utilizando funciones *built-in*, para operaciones sencillas como `len()`, `sum()` o `max()`. En este Notebook aprenderas a crear tus propias funciones.\n",
    "\n",
    "La sintaxis es:\n",
    "> ```Python\n",
    "> def nombre_funcion(input):\n",
    ">    operaciones varias\n",
    ">    return output\n",
    "> ```\n",
    "\n",
    "Fíjate que sigue la **sintaxis de línea** vista en Notebooks anteriores. Además, todo lo que va después del `return` es ignorado, puesto que es la salida. En el `return` acaba la función. Ahora bien, eso no quiere decir que haya un único return. Si introducimos una sentencia `if/else`, podremos poner returns diferentes dependiendo de qué condición se cumpla. Vamos a crear nuestra primera función"
   ]
  },
  {
   "cell_type": "code",
   "execution_count": 1,
   "metadata": {},
   "outputs": [],
   "source": [
    "# Vamos a crear un conversor de km a millas\n",
    "def km_millas(distancia):\n",
    "    millas = distancia * 0.62\n",
    "    return millas"
   ]
  },
  {
   "cell_type": "markdown",
   "metadata": {},
   "source": [
    "Al ejecutar el código anterior, no corre nada, simplemente almacenamos en memoria la función para usarla posteriormente. **Ahora podremos llamar a la función tantas veces como queramos, desde cualquier parte del codigo.**"
   ]
  },
  {
   "cell_type": "code",
   "execution_count": 4,
   "metadata": {},
   "outputs": [
    {
     "name": "stdout",
     "output_type": "stream",
     "text": [
      "3.1\n",
      "6.2\n",
      "1.24\n"
     ]
    },
    {
     "data": {
      "text/plain": [
       "7"
      ]
     },
     "execution_count": 4,
     "metadata": {},
     "output_type": "execute_result"
    }
   ],
   "source": [
    "# Ahora ejecutamos la funcion\n",
    "km_millas(2) # 24\n",
    "\"hola\"\n",
    "7\n",
    "print(km_millas(5))\n",
    "print(km_millas(10))\n",
    "print(km_millas(2))\n",
    "7"
   ]
  },
  {
   "cell_type": "markdown",
   "metadata": {},
   "source": [
    "Las funciones no tienen por qué llevar argumentos. Eso sí, **es obligatorio** poner los parentesis, tanto en la declaración, como luego al llamar la función."
   ]
  },
  {
   "cell_type": "code",
   "execution_count": 5,
   "metadata": {},
   "outputs": [
    {
     "name": "stdout",
     "output_type": "stream",
     "text": [
      "12:38:47.688666\n"
     ]
    }
   ],
   "source": [
    "from datetime import datetime\n",
    "\n",
    "def que_hora_es():\n",
    "    \n",
    "    #mi_objeto_datetime = datetime.now()\n",
    "    \n",
    "    now = datetime.now().time()\n",
    "    \n",
    "    return now\n",
    "\n",
    "print(que_hora_es())\n"
   ]
  },
  {
   "cell_type": "markdown",
   "metadata": {},
   "source": [
    "**Tampoco tienen por qué llevar un `return`**. No siempre es necesario un output. En tal caso, devuelve `None`"
   ]
  },
  {
   "cell_type": "code",
   "execution_count": 9,
   "metadata": {},
   "outputs": [
    {
     "name": "stdout",
     "output_type": "stream",
     "text": [
      "12:45:31.623070\n",
      "None\n"
     ]
    }
   ],
   "source": [
    "from datetime import datetime\n",
    "\n",
    "# Fijte que hay dos prints, por eso sale el output de la hora, y el output de la funcion (None)\n",
    "def que_hora_es():\n",
    "    \n",
    "    print(datetime.now().time())\n",
    "    \n",
    "\n",
    "print(que_hora_es())"
   ]
  },
  {
   "cell_type": "markdown",
   "metadata": {},
   "source": [
    "También puedes poner varias salidas en el return, simplemente separándolas por comas. O si lo que quieres es un único elemento, agruparlos en una colección también puede ser otra opción."
   ]
  },
  {
   "cell_type": "code",
   "execution_count": 11,
   "metadata": {},
   "outputs": [
    {
     "name": "stdout",
     "output_type": "stream",
     "text": [
      "(datetime.time(12, 47, 16, 673908), datetime.date(2023, 2, 3))\n"
     ]
    }
   ],
   "source": [
    "def que_hora_es():\n",
    "    time = datetime.now().time()\n",
    "    date = datetime.now().date()\n",
    "    return time, date \n",
    "\n",
    "print(que_hora_es()) \n"
   ]
  },
  {
   "cell_type": "markdown",
   "metadata": {},
   "source": [
    "### Tipos de datos de los argumentos\n",
    "Lo que quieras: numeros, texto, listas, tuplas, diccionarios, objetos de clases que hayas definido..."
   ]
  },
  {
   "cell_type": "code",
   "execution_count": 14,
   "metadata": {},
   "outputs": [
    {
     "name": "stdout",
     "output_type": "stream",
     "text": [
      "<class 'tuple'>\n",
      "<class 'list'>\n",
      "<class 'dict'>\n",
      "fin\n"
     ]
    }
   ],
   "source": [
    "def recibe_mix(tupla, lista, diccionario):\n",
    "    print(type(tupla))\n",
    "    print(type(lista))\n",
    "    print(type(diccionario))\n",
    "    \n",
    "    #return tupla[0] ** 3\n",
    "    \n",
    "valor_retornado = recibe_mix(( 2,3,4), ['a','b','c'],  {\"x1\": 1, \"x2\": 2})\n",
    "print(\"fin\")"
   ]
  },
  {
   "cell_type": "code",
   "execution_count": 34,
   "metadata": {},
   "outputs": [
    {
     "data": {
      "text/plain": [
       "type"
      ]
     },
     "execution_count": 34,
     "metadata": {},
     "output_type": "execute_result"
    }
   ],
   "source": [
    "type(type(3))\n",
    "resultado = type(3)\n",
    "type(resultado)"
   ]
  },
  {
   "cell_type": "markdown",
   "metadata": {},
   "source": [
    "<table align=\"left\">\n",
    " <tr><td width=\"80\"><img src=\"./img/error.png\" style=\"width:auto;height:auto\"></td>\n",
    "     <td style=\"text-align:left\">\n",
    "         <h3>ERRORES variables de la función</h3>\n",
    "         \n",
    " </td></tr>\n",
    "</table>"
   ]
  },
  {
   "cell_type": "code",
   "execution_count": 15,
   "metadata": {},
   "outputs": [
    {
     "name": "stdout",
     "output_type": "stream",
     "text": [
      "1.24\n"
     ]
    },
    {
     "ename": "NameError",
     "evalue": "name 'millas' is not defined",
     "output_type": "error",
     "traceback": [
      "\u001b[1;31m---------------------------------------------------------------------------\u001b[0m",
      "\u001b[1;31mNameError\u001b[0m                                 Traceback (most recent call last)",
      "\u001b[1;32m~\\AppData\\Local\\Temp/ipykernel_28008/367039050.py\u001b[0m in \u001b[0;36m<module>\u001b[1;34m\u001b[0m\n\u001b[0;32m      7\u001b[0m \u001b[0mprint\u001b[0m\u001b[1;33m(\u001b[0m\u001b[0mkm_millas\u001b[0m\u001b[1;33m(\u001b[0m\u001b[1;36m2\u001b[0m\u001b[1;33m)\u001b[0m\u001b[1;33m)\u001b[0m\u001b[1;33m\u001b[0m\u001b[1;33m\u001b[0m\u001b[0m\n\u001b[0;32m      8\u001b[0m \u001b[1;33m\u001b[0m\u001b[0m\n\u001b[1;32m----> 9\u001b[1;33m \u001b[0mprint\u001b[0m\u001b[1;33m(\u001b[0m\u001b[0mmillas\u001b[0m\u001b[1;33m)\u001b[0m\u001b[1;33m\u001b[0m\u001b[1;33m\u001b[0m\u001b[0m\n\u001b[0m",
      "\u001b[1;31mNameError\u001b[0m: name 'millas' is not defined"
     ]
    }
   ],
   "source": [
    "# Todo lo que declaremos dentro de la función se crea UNICAMENTE para la función\n",
    "# Fuera de la misma, esas variables no existen\n",
    "def km_millas(distancia):\n",
    "    millas = distancia * 0.62\n",
    "    return millas\n",
    "\n",
    "print(km_millas(2))\n",
    "\n",
    "print(millas)"
   ]
  },
  {
   "cell_type": "markdown",
   "metadata": {},
   "source": [
    "Se crea un namespace interno dentro de las funciones, es decir, que lo que declaremos dentro, se queda dentro. No lo podremos usar fuera. Además, ten en cuenta que todo lo que introduzcamos dentro de flujos de control (`if/else`, bucles...), nos vale para el resto de la función"
   ]
  },
  {
   "cell_type": "code",
   "execution_count": 16,
   "metadata": {},
   "outputs": [
    {
     "data": {
      "text/plain": [
       "1"
      ]
     },
     "execution_count": 16,
     "metadata": {},
     "output_type": "execute_result"
    }
   ],
   "source": [
    "def numero_ifs(numero):\n",
    "    if numero == 1:\n",
    "        if numero == 1:\n",
    "            if numero == 1:\n",
    "                if numero == 1:\n",
    "                    out = 1\n",
    "        \n",
    "    return out\n",
    "\n",
    "numero_ifs(1)"
   ]
  },
  {
   "cell_type": "code",
   "execution_count": 17,
   "metadata": {},
   "outputs": [
    {
     "ename": "UnboundLocalError",
     "evalue": "local variable 'out' referenced before assignment",
     "output_type": "error",
     "traceback": [
      "\u001b[1;31m---------------------------------------------------------------------------\u001b[0m",
      "\u001b[1;31mUnboundLocalError\u001b[0m                         Traceback (most recent call last)",
      "\u001b[1;32m~\\AppData\\Local\\Temp/ipykernel_28008/3414726539.py\u001b[0m in \u001b[0;36m<module>\u001b[1;34m\u001b[0m\n\u001b[1;32m----> 1\u001b[1;33m \u001b[0mnumero_ifs\u001b[0m\u001b[1;33m(\u001b[0m\u001b[1;36m2\u001b[0m\u001b[1;33m)\u001b[0m\u001b[1;33m\u001b[0m\u001b[1;33m\u001b[0m\u001b[0m\n\u001b[0m",
      "\u001b[1;32m~\\AppData\\Local\\Temp/ipykernel_28008/1207955043.py\u001b[0m in \u001b[0;36mnumero_ifs\u001b[1;34m(numero)\u001b[0m\n\u001b[0;32m      6\u001b[0m                     \u001b[0mout\u001b[0m \u001b[1;33m=\u001b[0m \u001b[1;36m1\u001b[0m\u001b[1;33m\u001b[0m\u001b[1;33m\u001b[0m\u001b[0m\n\u001b[0;32m      7\u001b[0m \u001b[1;33m\u001b[0m\u001b[0m\n\u001b[1;32m----> 8\u001b[1;33m     \u001b[1;32mreturn\u001b[0m \u001b[0mout\u001b[0m\u001b[1;33m\u001b[0m\u001b[1;33m\u001b[0m\u001b[0m\n\u001b[0m\u001b[0;32m      9\u001b[0m \u001b[1;33m\u001b[0m\u001b[0m\n\u001b[0;32m     10\u001b[0m \u001b[0mnumero_ifs\u001b[0m\u001b[1;33m(\u001b[0m\u001b[1;36m1\u001b[0m\u001b[1;33m)\u001b[0m\u001b[1;33m\u001b[0m\u001b[1;33m\u001b[0m\u001b[0m\n",
      "\u001b[1;31mUnboundLocalError\u001b[0m: local variable 'out' referenced before assignment"
     ]
    }
   ],
   "source": [
    "numero_ifs(2)"
   ]
  },
  {
   "cell_type": "code",
   "execution_count": 18,
   "metadata": {},
   "outputs": [
    {
     "ename": "TypeError",
     "evalue": "km_millas() missing 1 required positional argument: 'distancia'",
     "output_type": "error",
     "traceback": [
      "\u001b[1;31m---------------------------------------------------------------------------\u001b[0m",
      "\u001b[1;31mTypeError\u001b[0m                                 Traceback (most recent call last)",
      "\u001b[1;32m~\\AppData\\Local\\Temp/ipykernel_28008/37096885.py\u001b[0m in \u001b[0;36m<module>\u001b[1;34m\u001b[0m\n\u001b[0;32m      4\u001b[0m \u001b[1;33m\u001b[0m\u001b[0m\n\u001b[0;32m      5\u001b[0m \u001b[1;33m\u001b[0m\u001b[0m\n\u001b[1;32m----> 6\u001b[1;33m \u001b[0mprint\u001b[0m\u001b[1;33m(\u001b[0m\u001b[0mkm_millas\u001b[0m\u001b[1;33m(\u001b[0m\u001b[1;33m)\u001b[0m\u001b[1;33m)\u001b[0m\u001b[1;33m\u001b[0m\u001b[1;33m\u001b[0m\u001b[0m\n\u001b[0m",
      "\u001b[1;31mTypeError\u001b[0m: km_millas() missing 1 required positional argument: 'distancia'"
     ]
    }
   ],
   "source": [
    "def km_millas(distancia):\n",
    "    millas = distancia * 0.62\n",
    "    return millas\n",
    "\n",
    "\n",
    "print(km_millas())"
   ]
  },
  {
   "cell_type": "markdown",
   "metadata": {},
   "source": [
    "Cuidado también con la sintaxis de línea. Después de dos puntos `:`, viene todo el bloque de código tabulado, de la función"
   ]
  },
  {
   "cell_type": "markdown",
   "metadata": {},
   "source": [
    "<table align=\"left\">\n",
    " <tr><td width=\"80\"><img src=\"./img/ejercicio.png\" style=\"width:auto;height:auto\"></td>\n",
    "     <td style=\"text-align:left\">\n",
    "         <h3>Ejercicio. Crea tu propia funcion</h3>\n",
    "\n",
    "Crea tu propia funcion. En este caso, queremos implementar una función para saber si podremos ir de excursión a la montaña. Para ello, la función recibirá dos argumentos: tiempo, que sera un booleano, y una lista con acompañantes. Si hace buen tiempo y al menos vienen dos personas conmigo -> return el primero que se apuntó a la lista, si solo hace buen tiempo -> return \"Hoy salimos\", y si no, return \"No podemos ir\"\n",
    "         \n",
    " </td></tr>\n",
    "</table>"
   ]
  },
  {
   "cell_type": "code",
   "execution_count": 25,
   "metadata": {},
   "outputs": [
    {
     "data": {
      "text/plain": [
       "'Hoy salimos'"
      ]
     },
     "execution_count": 25,
     "metadata": {},
     "output_type": "execute_result"
    }
   ],
   "source": [
    "def excur_montania(tiempo, amigos):\n",
    "    if tiempo == True and len(amigos) > 1:\n",
    "        return amigos[0]\n",
    "    elif tiempo == True:\n",
    "        return \"Hoy salimos\"\n",
    "    else:\n",
    "        return \"No podemo salir\"\n",
    "\n",
    "excur_montania(True, [\"Pepe\"])"
   ]
  },
  {
   "cell_type": "code",
   "execution_count": null,
   "metadata": {},
   "outputs": [],
   "source": [
    "def test(tiempo, cantidad_de_amigos):\n",
    "    if tiempo == True and cantidad_de_amigos > 5:\n",
    "        return \"menuda fiesta\"\n",
    "    elif cantidad_de_amigos < 2:\n",
    "        return \"no somos muchos\"\n",
    "    else:\n",
    "        \"hace buen tiempo? \" + str(tiempo) + \"sea lo que sea, no salimos\"\n",
    "        "
   ]
  },
  {
   "cell_type": "code",
   "execution_count": null,
   "metadata": {},
   "outputs": [],
   "source": [
    "def excur_montania(tiempo, amigos):\n",
    "    \n",
    "    if tiempo == True:\n",
    "        if len(amigos) > 1:\n",
    "            return amigos[0]\n",
    "        else:\n",
    "            return \"Alberto\"\n",
    "\n",
    "    else:\n",
    "        return \"No podemos ir\""
   ]
  },
  {
   "cell_type": "code",
   "execution_count": null,
   "metadata": {},
   "outputs": [],
   "source": [
    "def excur_montania(tiempo, amigos):\n",
    "    if tiempo  and len(amigos) > 1:  # Tiempo == True   Tiempo\n",
    "        return amigos[0]\n",
    "    elif tiempo:\n",
    "        return \"Hoy salimos\"\n",
    "    else:\n",
    "        return \"No podemo salir\"\n",
    "\n",
    "excur_montania(True, [\"Pepe\"])"
   ]
  },
  {
   "cell_type": "code",
   "execution_count": null,
   "metadata": {},
   "outputs": [],
   "source": [
    "Tiempo == True         Tiempo\n",
    "\n",
    "1         1              1\n",
    "0         0              0\n"
   ]
  },
  {
   "cell_type": "code",
   "execution_count": 24,
   "metadata": {},
   "outputs": [],
   "source": [
    "def test(num1, num2):\n",
    "    #print(\"numero1 + numero2\", num1+num2)\n",
    "    print(num1+num2)\n",
    "    #return num1 + num2\n",
    "\n",
    "#resultado = test(2,3) * 2\n",
    "#print(resultado)"
   ]
  },
  {
   "cell_type": "code",
   "execution_count": null,
   "metadata": {},
   "outputs": [],
   "source": []
  },
  {
   "cell_type": "code",
   "execution_count": 13,
   "metadata": {},
   "outputs": [
    {
     "data": {
      "text/plain": [
       "'Hoy salimos'"
      ]
     },
     "execution_count": 13,
     "metadata": {},
     "output_type": "execute_result"
    }
   ],
   "source": [
    "\n",
    "\n"
   ]
  },
  {
   "cell_type": "code",
   "execution_count": 14,
   "metadata": {},
   "outputs": [
    {
     "data": {
      "text/plain": [
       "'Pepe'"
      ]
     },
     "execution_count": 14,
     "metadata": {},
     "output_type": "execute_result"
    }
   ],
   "source": []
  },
  {
   "cell_type": "markdown",
   "metadata": {},
   "source": [
    "## 2. Argumentos posicionales\n",
    "Ya sabes cómo crear funciones con un solo argumento. Tendrás la opción de implementarlas con todos los argumentos que quieras. Ahora bien, ten en cuenta dos cosas:\n",
    "\n",
    "1. **El orden** de los argumentos. Cuando llamemos a la función, tenemos que seguir el mismo orden de argumentos que en la declaración de la función.\n",
    "2. **Son obligatorios**. Si los declaramos en la función, después al llamarla, tenemos que poner todos sus argumentos. Luego veremos que hay una manera de poner argumentos opcionales."
   ]
  },
  {
   "cell_type": "code",
   "execution_count": 26,
   "metadata": {},
   "outputs": [
    {
     "data": {
      "text/plain": [
       "84.0"
      ]
     },
     "execution_count": 26,
     "metadata": {},
     "output_type": "execute_result"
    }
   ],
   "source": [
    "def multiplica(x1, x2, x3, x4):\n",
    "    return (x1 * x2 * x3) / x4\n",
    "\n",
    "multiplica(4,6,7,2)"
   ]
  },
  {
   "cell_type": "markdown",
   "metadata": {},
   "source": [
    "Fijate que los argumentos siguen un determinado orden: x1, x2, x3, x4. Cuando llamamos a la función, introduciremos 4 argumentos y la función los recogerá en ese orden. Asignará 4 a x1, 6 a x2, etc. Podemos también especificar el nombre del argumento en la llamada, lo que nos permite tener mayor flexibilidad en el orden."
   ]
  },
  {
   "cell_type": "code",
   "execution_count": 4,
   "metadata": {},
   "outputs": [
    {
     "data": {
      "text/plain": [
       "84.0"
      ]
     },
     "execution_count": 4,
     "metadata": {},
     "output_type": "execute_result"
    }
   ],
   "source": [
    "multiplica(x2 = 6, # Aqui pongo x2\n",
    "            x1 = 4, # Y aqui x1\n",
    "            x3 = 7,\n",
    "            x4 = 2)"
   ]
  },
  {
   "cell_type": "code",
   "execution_count": 35,
   "metadata": {},
   "outputs": [
    {
     "name": "stdout",
     "output_type": "stream",
     "text": [
      "For only 49.00 dollars!\n"
     ]
    }
   ],
   "source": [
    "txt = \"For only {price:.2f} dollars!\"\n",
    "print(txt.format(price = 49))"
   ]
  },
  {
   "cell_type": "markdown",
   "metadata": {},
   "source": [
    "<table align=\"left\">\n",
    " <tr><td width=\"80\"><img src=\"./img/error.png\" style=\"width:auto;height:auto\"></td>\n",
    "     <td style=\"text-align:left\">\n",
    "         <h3>ERRORES Traza del error dentro de la función</h3>\n",
    "         \n",
    " </td></tr>\n",
    "</table>"
   ]
  },
  {
   "cell_type": "code",
   "execution_count": 27,
   "metadata": {},
   "outputs": [
    {
     "ename": "ZeroDivisionError",
     "evalue": "division by zero",
     "output_type": "error",
     "traceback": [
      "\u001b[1;31m---------------------------------------------------------------------------\u001b[0m",
      "\u001b[1;31mZeroDivisionError\u001b[0m                         Traceback (most recent call last)",
      "\u001b[1;32m~\\AppData\\Local\\Temp/ipykernel_28008/1596951458.py\u001b[0m in \u001b[0;36m<module>\u001b[1;34m\u001b[0m\n\u001b[1;32m----> 1\u001b[1;33m multiplica(x4 = 0, # Aqui pongo x2\n\u001b[0m\u001b[0;32m      2\u001b[0m             \u001b[0mx1\u001b[0m \u001b[1;33m=\u001b[0m \u001b[1;36m4\u001b[0m\u001b[1;33m,\u001b[0m \u001b[1;31m# Y aqui x1\u001b[0m\u001b[1;33m\u001b[0m\u001b[1;33m\u001b[0m\u001b[0m\n\u001b[0;32m      3\u001b[0m             \u001b[0mx3\u001b[0m \u001b[1;33m=\u001b[0m \u001b[1;36m7\u001b[0m\u001b[1;33m,\u001b[0m\u001b[1;33m\u001b[0m\u001b[1;33m\u001b[0m\u001b[0m\n\u001b[0;32m      4\u001b[0m             x2 = 6)\n",
      "\u001b[1;32m~\\AppData\\Local\\Temp/ipykernel_28008/1077904274.py\u001b[0m in \u001b[0;36mmultiplica\u001b[1;34m(x1, x2, x3, x4)\u001b[0m\n\u001b[0;32m      1\u001b[0m \u001b[1;32mdef\u001b[0m \u001b[0mmultiplica\u001b[0m\u001b[1;33m(\u001b[0m\u001b[0mx1\u001b[0m\u001b[1;33m,\u001b[0m \u001b[0mx2\u001b[0m\u001b[1;33m,\u001b[0m \u001b[0mx3\u001b[0m\u001b[1;33m,\u001b[0m \u001b[0mx4\u001b[0m\u001b[1;33m)\u001b[0m\u001b[1;33m:\u001b[0m\u001b[1;33m\u001b[0m\u001b[1;33m\u001b[0m\u001b[0m\n\u001b[1;32m----> 2\u001b[1;33m     \u001b[1;32mreturn\u001b[0m \u001b[1;33m(\u001b[0m\u001b[0mx1\u001b[0m \u001b[1;33m*\u001b[0m \u001b[0mx2\u001b[0m \u001b[1;33m*\u001b[0m \u001b[0mx3\u001b[0m\u001b[1;33m)\u001b[0m \u001b[1;33m/\u001b[0m \u001b[0mx4\u001b[0m\u001b[1;33m\u001b[0m\u001b[1;33m\u001b[0m\u001b[0m\n\u001b[0m\u001b[0;32m      3\u001b[0m \u001b[1;33m\u001b[0m\u001b[0m\n\u001b[0;32m      4\u001b[0m \u001b[0mmultiplica\u001b[0m\u001b[1;33m(\u001b[0m\u001b[1;36m4\u001b[0m\u001b[1;33m,\u001b[0m\u001b[1;36m6\u001b[0m\u001b[1;33m,\u001b[0m\u001b[1;36m7\u001b[0m\u001b[1;33m,\u001b[0m\u001b[1;36m2\u001b[0m\u001b[1;33m)\u001b[0m\u001b[1;33m\u001b[0m\u001b[1;33m\u001b[0m\u001b[0m\n",
      "\u001b[1;31mZeroDivisionError\u001b[0m: division by zero"
     ]
    }
   ],
   "source": [
    "multiplica(x4 = 0, # Aqui pongo x2\n",
    "            x1 = 4, # Y aqui x1\n",
    "            x3 = 7,\n",
    "            x2 = 6)"
   ]
  },
  {
   "cell_type": "markdown",
   "metadata": {},
   "source": [
    "Fijate que aparece toda la traza del error, tanto la línea donde llamas a la función, como el error dentro de la función. Podemos solventar el error, introduciendo un bloque `try/except`"
   ]
  },
  {
   "cell_type": "code",
   "execution_count": 4,
   "metadata": {},
   "outputs": [
    {
     "name": "stdout",
     "output_type": "stream",
     "text": [
      "<class 'ZeroDivisionError'>\n",
      "Ha habido un error en la funcion multipl\n"
     ]
    }
   ],
   "source": [
    "try:\n",
    "    multiplica(x4 = 0, # Aqui pongo x2\n",
    "        x1 = 4, # Y aqui x1\n",
    "        x3 = 7,\n",
    "        x2 = 6)\n",
    "except ZeroDivisionError:\n",
    "    print(ZeroDivisionError)\n",
    "    print(\"Ha habido un error en la funcion multipl\")"
   ]
  },
  {
   "cell_type": "markdown",
   "metadata": {},
   "source": [
    "## 3. Argumentos variables\n",
    "En los ejemplos anteriores teníamos que fijar un número concreto de argumentos, pero hay ocasiones que no tenemos seguro cuántos argumentos son. Por suerte, las funciones de Python nos aportan esa flexibilidad mediante `*`\n",
    "\n",
    "Veamos cómo implementar una función multiplicadora con numero variable de argumentos"
   ]
  },
  {
   "cell_type": "code",
   "execution_count": 28,
   "metadata": {},
   "outputs": [
    {
     "name": "stdout",
     "output_type": "stream",
     "text": [
      "<class 'tuple'>\n",
      "30\n",
      "<class 'tuple'>\n",
      "1260\n",
      "<class 'tuple'>\n",
      "2\n"
     ]
    }
   ],
   "source": [
    "# Definimos la funcion\n",
    "def multipl_var(*args):\n",
    "    print(type(args))\n",
    "    mult_tot = 1\n",
    "    \n",
    "    for i in args:\n",
    "        mult_tot = mult_tot * i\n",
    "        \n",
    "    return mult_tot\n",
    "\n",
    "# Llamamos a la funcion\n",
    "print(multipl_var(2, 5, 3))\n",
    "print(multipl_var(2, 5, 3, 6, 7))\n",
    "print(multipl_var(2))"
   ]
  },
  {
   "cell_type": "code",
   "execution_count": 36,
   "metadata": {},
   "outputs": [
    {
     "name": "stdout",
     "output_type": "stream",
     "text": [
      "((1, 2, 3, [1, 2, 3, (4, 5, 6)]),)\n"
     ]
    }
   ],
   "source": [
    "def test(*args):\n",
    "    print(args)\n",
    "\n",
    "test(   (1,2,3,[1,2,3,(4,5,6)])    )"
   ]
  },
  {
   "cell_type": "markdown",
   "metadata": {},
   "source": [
    "Ten en cuenta que `*args` es algo variable con X elementos. Como no sabemos a priori cuantos son, tendremos que recorrerlos con un `for`, y para cada argumento, aplicarle una operación. Por tanto, `*args` es un iterable, en concreto una **tupla**. Lo que le está dando la funcionalidad de \"argumentos variables\" es `*`, no `args`. Igual que ponemos `*args`, podemos poner `*argumentos`.\n",
    "\n",
    "Puedes combinar argumentos posicionales con los `*args`"
   ]
  },
  {
   "cell_type": "code",
   "execution_count": 29,
   "metadata": {},
   "outputs": [
    {
     "name": "stdout",
     "output_type": "stream",
     "text": [
      "3.0\n"
     ]
    }
   ],
   "source": [
    "# En este ejemplo, uso el ultimo argumento para dividir todo lo que habiamos multiplicado por este argumento\n",
    "def multipl_var_div(*args, div):\n",
    "    \n",
    "    mult_tot = 1\n",
    "    \n",
    "    for i in args:\n",
    "        mult_tot = mult_tot * i\n",
    "        \n",
    "    return mult_tot/div\n",
    "\n",
    "print(multipl_var_div(2, 5, 3, div = 10))\n",
    "# print(\"hola\", \"adiós\", sep = \" \", end = \"\\n\")"
   ]
  },
  {
   "cell_type": "markdown",
   "metadata": {},
   "source": [
    "<table align=\"left\">\n",
    " <tr><td width=\"80\"><img src=\"./img/error.png\" style=\"width:auto;height:auto\"></td>\n",
    "     <td style=\"text-align:left\">\n",
    "         <h3>ERRORES con argumentos variables</h3>\n",
    "         \n",
    " </td></tr>\n",
    "</table>"
   ]
  },
  {
   "cell_type": "markdown",
   "metadata": {},
   "source": [
    "Declara los argumentos variables al principio, y los fijos al final para evitar errores. Además, si los combinas, tendrás que concretar cuáles son los argumentos fijos"
   ]
  },
  {
   "cell_type": "code",
   "execution_count": 31,
   "metadata": {},
   "outputs": [
    {
     "name": "stdout",
     "output_type": "stream",
     "text": [
      "30.0\n"
     ]
    }
   ],
   "source": [
    "print(multipl_var_div(2, 5, 3, 10, div = 10))\n"
   ]
  },
  {
   "cell_type": "markdown",
   "metadata": {},
   "source": [
    "<table align=\"left\">\n",
    " <tr><td width=\"80\"><img src=\"./img/ejercicio.png\" style=\"width:auto;height:auto\"></td>\n",
    "     <td style=\"text-align:left\">\n",
    "         <h3>Ejercicio argumentos variables</h3>\n",
    "Crea una función que reciba un numero variable de marcas de coche, las concatene todas separandolas por comas y devuelva ese string concatenado\n",
    "         \n",
    " </td></tr>\n",
    "</table>"
   ]
  },
  {
   "cell_type": "code",
   "execution_count": 45,
   "metadata": {},
   "outputs": [
    {
     "data": {
      "text/plain": [
       "'Audi, VW, Seat'"
      ]
     },
     "execution_count": 45,
     "metadata": {},
     "output_type": "execute_result"
    }
   ],
   "source": [
    "def marcas_coche(*marcas):\n",
    "        return \", \".join(marcas)\n",
    "marcas_coche(\"Audi\", \"VW\", \"Seat\")"
   ]
  },
  {
   "cell_type": "code",
   "execution_count": 52,
   "metadata": {},
   "outputs": [
    {
     "data": {
      "text/plain": [
       "'Audi, VW, Seat'"
      ]
     },
     "execution_count": 52,
     "metadata": {},
     "output_type": "execute_result"
    }
   ],
   "source": [
    "def marcas_coche(*marcas):\n",
    "    total = \"\"\n",
    "    for marca in marcas:\n",
    "        total = total + marca + \", \"\n",
    "    return total[:-2]\n",
    "marcas_coche(\"Audi\", \"VW\", \"Seat\")"
   ]
  },
  {
   "cell_type": "code",
   "execution_count": 54,
   "metadata": {},
   "outputs": [
    {
     "data": {
      "text/plain": [
       "'Audi, VW, Seat'"
      ]
     },
     "execution_count": 54,
     "metadata": {},
     "output_type": "execute_result"
    }
   ],
   "source": [
    "def marcas_coche(*marcas):\n",
    "    total = \"\"\n",
    "    for marca in marcas:\n",
    "        if total == \"\":\n",
    "            total = total + marca\n",
    "        else:\n",
    "            total = total + \", \" + marca \n",
    "    return total\n",
    "marcas_coche(\"Audi\", \"VW\", \"Seat\")"
   ]
  },
  {
   "cell_type": "code",
   "execution_count": 58,
   "metadata": {},
   "outputs": [
    {
     "data": {
      "text/plain": [
       "'Audi, VW, Seat'"
      ]
     },
     "execution_count": 58,
     "metadata": {},
     "output_type": "execute_result"
    }
   ],
   "source": [
    "def marcas_coche(*marcas):\n",
    "    total = \"\"\n",
    "    for marca in marcas:\n",
    "        total = total + \", \" + marca \n",
    "    return total[2:]\n",
    "marcas_coche(\"Audi\", \"VW\", \"Seat\")"
   ]
  },
  {
   "cell_type": "code",
   "execution_count": 59,
   "metadata": {},
   "outputs": [
    {
     "data": {
      "text/plain": [
       "'Audi, VW, Seat'"
      ]
     },
     "execution_count": 59,
     "metadata": {},
     "output_type": "execute_result"
    }
   ],
   "source": [
    "def marcas_coche(*marcas):\n",
    "    total = \"\"\n",
    "    for marca in marcas:\n",
    "        total += \", \" + marca \n",
    "    return total[2:]\n",
    "marcas_coche(\"Audi\", \"VW\", \"Seat\")"
   ]
  },
  {
   "cell_type": "code",
   "execution_count": 42,
   "metadata": {},
   "outputs": [
    {
     "data": {
      "text/plain": [
       "'aaa xxx bbb xxx ccc'"
      ]
     },
     "execution_count": 42,
     "metadata": {},
     "output_type": "execute_result"
    }
   ],
   "source": [
    "\" xxx \".join([\"aaa\", \"bbb\", \"ccc\"])"
   ]
  },
  {
   "cell_type": "code",
   "execution_count": 44,
   "metadata": {},
   "outputs": [
    {
     "data": {
      "text/plain": [
       "'h o l a'"
      ]
     },
     "execution_count": 44,
     "metadata": {},
     "output_type": "execute_result"
    }
   ],
   "source": [
    "\" \".join(\"hola\")"
   ]
  },
  {
   "cell_type": "code",
   "execution_count": null,
   "metadata": {},
   "outputs": [],
   "source": [
    "# 'Mazda, BMW, VW'"
   ]
  },
  {
   "cell_type": "markdown",
   "metadata": {},
   "source": [
    "### Argumentos variables con clave-valor\n",
    "Tenemos también la opción de introducir un diccionario como argumentos, de esta forma, aunque el numero de argumentos sea variable, tendremos un inidicador, la clave, y el valor de cada clave. Se implementa con `**`"
   ]
  },
  {
   "cell_type": "code",
   "execution_count": 7,
   "metadata": {},
   "outputs": [
    {
     "name": "stdout",
     "output_type": "stream",
     "text": [
      "<class 'dict'>\n",
      "Camara = 24MPx\n",
      "Bateria = 10\n",
      "Peso = 200\n",
      "Color = Negro\n",
      "Accesorios = {'carcasa': True}\n",
      "{'Camara': '24MPx', 'Bateria': 10, 'Peso': 200, 'Color': 'Negro', 'Accesorios': {'carcasa': True}}\n"
     ]
    }
   ],
   "source": [
    "def movil(**kwargs):\n",
    "    print(type(kwargs))\n",
    "    for key, value in kwargs.items(): # [(k0,v0), (k1, v1), (k2, v2)]\n",
    "        print(key, \"=\", value)\n",
    "    return kwargs\n",
    "\n",
    "# Llamamos a la funcion\n",
    "print(movil(Camara = \"24MPx\",\n",
    "           Bateria = 10,\n",
    "           Peso = 200,\n",
    "           Color = \"Negro\",\n",
    "           Accesorios = {\"carcasa\": True},\n",
    "           ))"
   ]
  },
  {
   "cell_type": "code",
   "execution_count": 60,
   "metadata": {},
   "outputs": [
    {
     "name": "stdout",
     "output_type": "stream",
     "text": [
      "{'saludo': 'hola', 'despedida': 'adiós', 'número': 7}\n"
     ]
    }
   ],
   "source": [
    "mi_dict = {\"saludo\": \"hola\", \"despedida\": \"adiós\", \"número\": 7}\n",
    "print(mi_dict)"
   ]
  },
  {
   "cell_type": "code",
   "execution_count": 64,
   "metadata": {},
   "outputs": [
    {
     "name": "stdout",
     "output_type": "stream",
     "text": [
      "hola\n",
      "adiós\n",
      "7\n"
     ]
    }
   ],
   "source": [
    "for k in mi_dict.keys():\n",
    "    print(mi_dict[k])"
   ]
  },
  {
   "cell_type": "code",
   "execution_count": 66,
   "metadata": {},
   "outputs": [
    {
     "name": "stdout",
     "output_type": "stream",
     "text": [
      "hola\n",
      "adiós\n",
      "7\n"
     ]
    }
   ],
   "source": [
    "for v in mi_dict.values():\n",
    "    print(v)"
   ]
  },
  {
   "cell_type": "code",
   "execution_count": 69,
   "metadata": {},
   "outputs": [
    {
     "name": "stdout",
     "output_type": "stream",
     "text": [
      "clave saludo\n",
      "valor hola\n",
      "clave despedida\n",
      "valor adiós\n",
      "clave número\n",
      "valor 7\n"
     ]
    }
   ],
   "source": [
    "for mi_tupla in mi_dict.items():\n",
    "    print(\"clave\", mi_tupla[0])\n",
    "    print(\"valor\", mi_tupla[1])"
   ]
  },
  {
   "cell_type": "code",
   "execution_count": 70,
   "metadata": {},
   "outputs": [
    {
     "name": "stdout",
     "output_type": "stream",
     "text": [
      "clave saludo\n",
      "valor hola\n",
      "clave despedida\n",
      "valor adiós\n",
      "clave número\n",
      "valor 7\n"
     ]
    }
   ],
   "source": [
    "for (k, v) in mi_dict.items():\n",
    "    print(\"clave\", k)\n",
    "    print(\"valor\", v)"
   ]
  },
  {
   "cell_type": "code",
   "execution_count": 74,
   "metadata": {},
   "outputs": [
    {
     "name": "stdout",
     "output_type": "stream",
     "text": [
      "[3, 2, 1]\n"
     ]
    }
   ],
   "source": [
    "mi_lista = [1,2,3]\n",
    "# sorted()\n",
    "# mi_lista.sort()\n",
    "valor_retornado = list(reversed(mi_lista))\n",
    "print(valor_retornado)"
   ]
  },
  {
   "cell_type": "code",
   "execution_count": 77,
   "metadata": {},
   "outputs": [
    {
     "data": {
      "text/plain": [
       "(0, 1, 2)"
      ]
     },
     "execution_count": 77,
     "metadata": {},
     "output_type": "execute_result"
    }
   ],
   "source": [
    "tuple(range(3))"
   ]
  },
  {
   "cell_type": "code",
   "execution_count": 78,
   "metadata": {},
   "outputs": [
    {
     "data": {
      "text/plain": [
       "[1, 2, 3]"
      ]
     },
     "execution_count": 78,
     "metadata": {},
     "output_type": "execute_result"
    }
   ],
   "source": [
    "list((1,2,3))"
   ]
  },
  {
   "cell_type": "code",
   "execution_count": 79,
   "metadata": {},
   "outputs": [
    {
     "data": {
      "text/plain": [
       "(1, 2, 3)"
      ]
     },
     "execution_count": 79,
     "metadata": {},
     "output_type": "execute_result"
    }
   ],
   "source": [
    "tuple([1,2,3])"
   ]
  },
  {
   "cell_type": "code",
   "execution_count": 80,
   "metadata": {},
   "outputs": [
    {
     "data": {
      "text/plain": [
       "[1, 2, 3]"
      ]
     },
     "execution_count": 80,
     "metadata": {},
     "output_type": "execute_result"
    }
   ],
   "source": [
    "list([1,2,3])\n",
    "int(3.8)"
   ]
  },
  {
   "cell_type": "code",
   "execution_count": 2,
   "metadata": {},
   "outputs": [
    {
     "name": "stdin",
     "output_type": "stream",
     "text": [
      "Input some comma seprated numbers :  1,2,3\n"
     ]
    },
    {
     "name": "stdout",
     "output_type": "stream",
     "text": [
      "lista ['1', '2', '3']\n",
      "List :  ['1', '2', '3']\n",
      "Tuple :  ('1', '2', '3')\n"
     ]
    }
   ],
   "source": [
    "values = (input(\"Input some comma seprated numbers : \"))\n",
    "lista = values.split(\",\") # \"1,2,3\" --> [\"1\", \"2\", \"3\"]\n",
    "print(\"lista\", lista)\n",
    "tupla = tuple(lista)\n",
    "print('List : ',lista)\n",
    "print('Tuple : ',tupla)\n",
    "\n",
    "\n",
    "#def = 8\n"
   ]
  },
  {
   "cell_type": "code",
   "execution_count": 3,
   "metadata": {},
   "outputs": [
    {
     "name": "stdin",
     "output_type": "stream",
     "text": [
      " 2\n"
     ]
    },
    {
     "data": {
      "text/plain": [
       "'2'"
      ]
     },
     "execution_count": 3,
     "metadata": {},
     "output_type": "execute_result"
    }
   ],
   "source": [
    "input()"
   ]
  },
  {
   "cell_type": "markdown",
   "metadata": {},
   "source": [
    "### Combinar `*args` con `**kwargs`\n",
    "No hay ningun problema en tener un numero variable de argumentos y también argumentos clave-valor, todo ello en la misma función."
   ]
  },
  {
   "cell_type": "code",
   "execution_count": 8,
   "metadata": {},
   "outputs": [
    {
     "name": "stdout",
     "output_type": "stream",
     "text": [
      "Tipo de args: <class 'tuple'>\n",
      "Movil bueno\n",
      "le dura la batería\n",
      "Tipo de kwargs: <class 'dict'>\n",
      "camara = 24MPx\n",
      "Bateria = 10\n",
      "Peso = 200\n",
      "{'camara': '24MPx', 'Bateria': 10, 'Peso': 200}\n"
     ]
    }
   ],
   "source": [
    "def movil(*args, **kwargs):\n",
    "    print(\"Tipo de args:\", type(args))\n",
    "    for i in args:\n",
    "          print(i)\n",
    "          \n",
    "    print(\"Tipo de kwargs:\", type(kwargs))\n",
    "    for key, value in kwargs.items():\n",
    "        print(key, \"=\", value)\n",
    "    return kwargs\n",
    "\n",
    "print(movil(\"Movil bueno\",\n",
    "            \"le dura la batería\",\n",
    "            camara = \"24MPx\",\n",
    "            Bateria = 10,\n",
    "            Peso = 200))\n",
    "            "
   ]
  },
  {
   "cell_type": "markdown",
   "metadata": {},
   "source": [
    "## 4. Argumentos keyword\n",
    "Existe otro tipo de argumentos que son los *keyword*. Se caracterizan porque llevan un valor por defecto, y por tanto, si no usamos dicho argumento en la llamada, dentro de la función tomará el valor que hayamos dejado por defecto.\n",
    "\n",
    "Ten en cuenta que estos argumentos se colocan **al final**"
   ]
  },
  {
   "cell_type": "code",
   "execution_count": 20,
   "metadata": {},
   "outputs": [
    {
     "name": "stdout",
     "output_type": "stream",
     "text": [
      "Su pedido AAA se entregará el 20-07-2020\n",
      "Contacte con Att. Cliente\n"
     ]
    }
   ],
   "source": [
    "def venta_online(pedido, fecha_entrega, incidencia = False):\n",
    "    \n",
    "    if(incidencia):\n",
    "        print(\"Contacte con Att. Cliente\")\n",
    "        \n",
    "    else:\n",
    "        print(\"Su pedido\", pedido, \"se entregará el\", fecha_entrega)\n",
    "        \n",
    "venta_online(\"AAA\", \"20-07-2020\")\n",
    "venta_online(\"AAA\", \"20-07-2020\", True)"
   ]
  },
  {
   "cell_type": "code",
   "execution_count": null,
   "metadata": {},
   "outputs": [],
   "source": [
    "print(\"hola\", end = \"\\n\")\n",
    "print(\"hola\")\n",
    "print(\"hola\", end = \" \")"
   ]
  },
  {
   "cell_type": "markdown",
   "metadata": {},
   "source": [
    "<table align=\"left\">\n",
    " <tr><td width=\"80\"><img src=\"./img/error.png\" style=\"width:auto;height:auto\"></td>\n",
    "     <td style=\"text-align:left\">\n",
    "         <h3>ERRORES con argumentos keyword</h3>\n",
    "         \n",
    " </td></tr>\n",
    "</table>"
   ]
  },
  {
   "cell_type": "code",
   "execution_count": 9,
   "metadata": {},
   "outputs": [
    {
     "ename": "SyntaxError",
     "evalue": "non-default argument follows default argument (Temp/ipykernel_11784/1627580549.py, line 1)",
     "output_type": "error",
     "traceback": [
      "\u001b[1;36m  File \u001b[1;32m\"C:\\Users\\Admin\\AppData\\Local\\Temp/ipykernel_11784/1627580549.py\"\u001b[1;36m, line \u001b[1;32m1\u001b[0m\n\u001b[1;33m    def venta_online(pedido, incidencia = False, fecha_entrega):\u001b[0m\n\u001b[1;37m                                                              ^\u001b[0m\n\u001b[1;31mSyntaxError\u001b[0m\u001b[1;31m:\u001b[0m non-default argument follows default argument\n"
     ]
    }
   ],
   "source": [
    "def venta_online(pedido, incidencia = False, fecha_entrega):\n",
    "    \n",
    "    if(incidencia):\n",
    "        print(\"Contacte con Att. Cliente\")\n",
    "        \n",
    "    else:\n",
    "        print(\"Su pedido\", pedido, \"se entregará el\", fecha_entrega)"
   ]
  },
  {
   "cell_type": "markdown",
   "metadata": {},
   "source": [
    "## 5. Recursividad\n",
    "Una función se puede llamar a si misma en la propia declaración, como si de un bucle se tratase. Es un concepto algo complejo, pero elegante a la hora de implementar nuestros programas. La única parte negativa es que cuesta un poco comprender qué es lo que hace la función. Como todo, tiene sus ventajas y sus inconvenientes.\n",
    "\n",
    "Calculemos el factorial de un numero *!n*"
   ]
  },
  {
   "cell_type": "code",
   "execution_count": 14,
   "metadata": {},
   "outputs": [
    {
     "name": "stdout",
     "output_type": "stream",
     "text": [
      "i 0\n",
      "output antes 1\n",
      "output después 1\n",
      "1\n",
      "i 1\n",
      "output antes 1\n",
      "output después 2\n",
      "2\n",
      "i 2\n",
      "output antes 2\n",
      "output después 6\n",
      "3\n",
      "i 3\n",
      "output antes 6\n",
      "output después 24\n",
      "4\n",
      "24\n"
     ]
    }
   ],
   "source": [
    "# Lo podriamos calcular con un bucle\n",
    "num_factorial = 4\n",
    "\n",
    "output = 1\n",
    "for i in range(num_factorial):\n",
    "    print(\"i\", i)\n",
    "    print(\"output antes\", output)\n",
    "    output = output * (i + 1)\n",
    "    print(\"output después\", output)\n",
    "    print(i + 1)\n",
    "print(output)\n"
   ]
  },
  {
   "cell_type": "code",
   "execution_count": 24,
   "metadata": {},
   "outputs": [
    {
     "name": "stdout",
     "output_type": "stream",
     "text": [
      "El factorial de 3 es 6\n"
     ]
    }
   ],
   "source": []
  },
  {
   "cell_type": "markdown",
   "metadata": {},
   "source": [
    "![imagen](./img/factorial.png)\n",
    "\n",
    "![imagen](./img/recursivity.jpg)\n",
    "\n",
    "[Ejemplo paso a paso de cómo se calcula un factorial mediante funciones recursivas](https://www.programiz.com/python-programming/recursion#:~:text=Following%20is%20an%20example%20of,*5*6%20%3D%20720%20.)"
   ]
  },
  {
   "cell_type": "code",
   "execution_count": 15,
   "metadata": {},
   "outputs": [
    {
     "data": {
      "text/plain": [
       "24"
      ]
     },
     "execution_count": 15,
     "metadata": {},
     "output_type": "execute_result"
    }
   ],
   "source": [
    "def fact(n):\n",
    "    if n == 1:\n",
    "        return 1\n",
    "    else:\n",
    "        return n * fact(n-1)\n",
    "fact(4)\n",
    "        "
   ]
  },
  {
   "cell_type": "markdown",
   "metadata": {},
   "source": [
    "## 6. Documentar funciones\n",
    "Como ya vimos en el primer Notebook, hay que documentar el código en la medida de lo posible. En particular, es necesario documentar bien las funciones. porque muchas veces las importamos de otro sitio, las usamos porque funcionan, pero no sabemos muy bien que hacen. Es por ello, que en Python existe un atributo dentro de las funciones, módulos, métodos o clases, que permite acceder a \"sus comentarios\", a su documentación, donde nos indica qué es lo que hace.\n",
    "\n",
    "Este atributo especial se llama *docstring*, y se accede mediante `nombre_funcion.__doc__`"
   ]
  },
  {
   "cell_type": "code",
   "execution_count": 25,
   "metadata": {},
   "outputs": [
    {
     "name": "stdout",
     "output_type": "stream",
     "text": [
      "Empieza la funcion\n",
      "4\n",
      "\n",
      "    Funcion que multiplca los dos argumentos: x*y\n",
      "    Inputs:\n",
      "        x: float\n",
      "        y: float\n",
      "    \n",
      "    Output:\n",
      "        x * y: float\n",
      "    \n"
     ]
    }
   ],
   "source": [
    "# O mediante una funcion recursiva\n",
    "def factorial(x):\n",
    "    if x == 1:\n",
    "        return 1\n",
    "    else:\n",
    "        return (x * factorial(x-1))\n",
    "\n",
    "\n",
    "# 1! = 1\n",
    "# 2! = 2 * 1 = 2 * 1!\n",
    "# 3! = 3 * 2 * 1 = 3 * 2!\n",
    "# 4! = 4 * 3 * 2 * 1 = 4 * 3!\n",
    "\n",
    "# 200! = 200 * 199! \n",
    "# 199! = 199 * 198!\n",
    "#...\n",
    "# 1!\n",
    "\n",
    "\n",
    "num_factorial = 3\n",
    "print(\"El factorial de\", num_factorial, \"es\", factorial(num_factorial ))"
   ]
  },
  {
   "cell_type": "code",
   "execution_count": 16,
   "metadata": {},
   "outputs": [
    {
     "name": "stdout",
     "output_type": "stream",
     "text": [
      "Empieza la funcion\n",
      "4\n",
      "\n",
      "    Funcion que multiplca los dos argumentos: x*y\n",
      "    Inputs:\n",
      "        x: float\n",
      "        y: float\n",
      "    \n",
      "    Output:\n",
      "        x * y: float\n",
      "    \n"
     ]
    }
   ],
   "source": [
    "def multiplica(x,y):\n",
    "    \"\"\"\n",
    "    Funcion que multiplca los dos argumentos: x*y\n",
    "    Inputs:\n",
    "        x: float\n",
    "        y: float\n",
    "    \n",
    "    Output:\n",
    "        x * y: float\n",
    "    \"\"\"\n",
    "    print(\"Empieza la funcion\")\n",
    "    # Mas comentarios\n",
    "    \n",
    "    return x*y\n",
    "\n",
    "print(multiplica(2,2))\n",
    "print(multiplica.__doc__)"
   ]
  },
  {
   "cell_type": "code",
   "execution_count": 17,
   "metadata": {},
   "outputs": [
    {
     "name": "stdout",
     "output_type": "stream",
     "text": [
      "Help on function multiplica in module __main__:\n",
      "\n",
      "multiplica(x, y)\n",
      "    Funcion que multiplca los dos argumentos: x*y\n",
      "    Inputs:\n",
      "        x: float\n",
      "        y: float\n",
      "    \n",
      "    Output:\n",
      "        x * y: float\n",
      "\n"
     ]
    }
   ],
   "source": [
    "help(multiplica)"
   ]
  },
  {
   "cell_type": "markdown",
   "metadata": {},
   "source": [
    "Los comentarios que se ponen pueden ser de línea o multilínea. Para funciones sencillas puede ser suficiente con una sola línea de comentario, pero si fuesen más complejas, el *docstring* debería llevar la siguiente información:\n",
    "* Descripción de la función\n",
    "* Argumentos de entrada: nombre, tipos y qué es lo que hacen\n",
    "* Argumentos de salida: nombre, tipos y qué son"
   ]
  },
  {
   "cell_type": "markdown",
   "metadata": {},
   "source": [
    "## 7. Resumen"
   ]
  },
  {
   "cell_type": "code",
   "execution_count": 26,
   "metadata": {},
   "outputs": [
    {
     "name": "stdout",
     "output_type": "stream",
     "text": [
      "1.24\n",
      "3.1\n",
      "6.2\n",
      "<class 'tuple'>\n",
      "<class 'dict'>\n",
      "Camara = 24MPx\n",
      "Bateria = 10\n",
      "Peso = 200\n",
      "{'Camara': '24MPx', 'Bateria': 10, 'Peso': 200}\n",
      "Su pedido AAA se entregará el 20-07-2020\n",
      "Contacte con Att. Cliente\n",
      "Empieza la funcion\n",
      "4\n",
      "\n",
      "    Funcion que multiplca los dos argumentos: x*y\n",
      "    \n"
     ]
    }
   ],
   "source": [
    "# Una funcion tiene la siguiente sintaxis\n",
    "def km_millas(distancia):\n",
    "    millas = distancia * 0.62\n",
    "    return millas\n",
    "\n",
    "# La podemos llamar cuántas veces queramos\n",
    "print(km_millas(2))\n",
    "print(km_millas(5))\n",
    "print(km_millas(10))\n",
    "\n",
    "# Las funciones pueden tener argumentos posicionales\n",
    "def multipl(x1, x2, x3, x4):\n",
    "    return (x1 * x2 * x3) / x4\n",
    "\n",
    "multipl(4,6,7,2)\n",
    "\n",
    "# Argumentos variables\n",
    "def multipl_var(*args):\n",
    "    print(type(args))\n",
    "    mult_tot = 1\n",
    "    \n",
    "    for i in args:\n",
    "        mult_tot = mult_tot * i\n",
    "        \n",
    "    return mult_tot\n",
    "\n",
    "\n",
    "multipl_var(4,5,6,3)\n",
    "\n",
    "\n",
    "# Argumentos con formato clave valor\n",
    "def movil(**kwargs):\n",
    "    \n",
    "    print(type(kwargs))\n",
    "    for key, value in kwargs.items():\n",
    "        print(key, \"=\", value)\n",
    "        \n",
    "    return kwargs\n",
    "\n",
    "# Llamamos a la funcion\n",
    "print(movil(Camara = \"24MPx\",\n",
    "           Bateria = 10,\n",
    "           Peso = 200))\n",
    "\n",
    "\n",
    "# Argumentos keyword\n",
    "def venta_online(pedido, fecha_entrega, incidencia = False):\n",
    "    \n",
    "    if(incidencia):\n",
    "        print(\"Contacte con Att. Cliente\")\n",
    "        \n",
    "    else:\n",
    "        print(\"Su pedido\", pedido, \"se entregará el\", fecha_entrega)\n",
    "        \n",
    "venta_online(\"AAA\", \"20-07-2020\")\n",
    "venta_online(\"AAA\", \"20-07-2020\", True)\n",
    "\n",
    "\n",
    "\n",
    "# Las funciones se documentan con el atributo docstring\n",
    "def multiplica(x,y):\n",
    "    \"\"\"\n",
    "    Funcion que multiplca los dos argumentos: x*y\n",
    "    \"\"\"\n",
    "    print(\"Empieza la funcion\")\n",
    "    # Mas comentarios\n",
    "    \n",
    "    return x*y\n",
    "\n",
    "print(multiplica(2,2))\n",
    "print(multiplica.__doc__)"
   ]
  }
 ],
 "metadata": {
  "kernelspec": {
   "display_name": "Python 3 (ipykernel)",
   "language": "python",
   "name": "python3"
  },
  "language_info": {
   "codemirror_mode": {
    "name": "ipython",
    "version": 3
   },
   "file_extension": ".py",
   "mimetype": "text/x-python",
   "name": "python",
   "nbconvert_exporter": "python",
   "pygments_lexer": "ipython3",
   "version": "3.9.7"
  },
  "vscode": {
   "interpreter": {
    "hash": "252189e587d1e2aeba4a06e91fa71896c7a7f6e22e918b9407c7cde4ef2d5985"
   }
  }
 },
 "nbformat": 4,
 "nbformat_minor": 4
}
