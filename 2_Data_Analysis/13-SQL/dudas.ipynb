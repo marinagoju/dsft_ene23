{
 "cells": [
  {
   "cell_type": "code",
   "execution_count": 1,
   "id": "44311771-4792-4dc8-a46e-f1060cfd93d6",
   "metadata": {},
   "outputs": [
    {
     "data": {
      "text/plain": [
       "0    chico 23 chica 23\n",
       "1             chico 21\n",
       "2             chica 21\n",
       "dtype: object"
      ]
     },
     "execution_count": 1,
     "metadata": {},
     "output_type": "execute_result"
    }
   ],
   "source": [
    "import pandas as pd\n",
    "\n",
    "s = pd.Series([\"chico 23 chica 23\", \"chicos 21\", \"chicas 21\"])\n",
    "s"
   ]
  },
  {
   "cell_type": "code",
   "execution_count": 18,
   "id": "a0f45758-e8f9-4be2-aa5e-2134cf8fa0b4",
   "metadata": {},
   "outputs": [
    {
     "data": {
      "text/plain": [
       "0    False\n",
       "1    False\n",
       "2    False\n",
       "dtype: bool"
      ]
     },
     "execution_count": 18,
     "metadata": {},
     "output_type": "execute_result"
    }
   ],
   "source": [
    "s.apply(lambda x: x.isnumeric())"
   ]
  },
  {
   "cell_type": "code",
   "execution_count": 2,
   "id": "db5adb0a-07f9-4009-9b6b-941e8743ed77",
   "metadata": {},
   "outputs": [
    {
     "data": {
      "text/plain": [
       "0    3\n",
       "1    1\n",
       "2    1\n",
       "dtype: int64"
      ]
     },
     "execution_count": 2,
     "metadata": {},
     "output_type": "execute_result"
    }
   ],
   "source": [
    "s.apply(lambda x: x.count(\" \"))"
   ]
  },
  {
   "cell_type": "code",
   "execution_count": 4,
   "id": "922028e4-0cff-4fef-a3a3-1fb8ba9942aa",
   "metadata": {},
   "outputs": [
    {
     "data": {
      "text/plain": [
       "0    4\n",
       "1    4\n",
       "2   -1\n",
       "dtype: int64"
      ]
     },
     "execution_count": 4,
     "metadata": {},
     "output_type": "execute_result"
    }
   ],
   "source": [
    "s.apply(lambda x: x.find(\"o\"))"
   ]
  },
  {
   "cell_type": "code",
   "execution_count": 10,
   "id": "2f34f645-750f-4e70-8442-0b00548ea0df",
   "metadata": {},
   "outputs": [
    {
     "data": {
      "text/plain": [
       "0    4\n",
       "1    4\n",
       "2    0\n",
       "dtype: int64"
      ]
     },
     "execution_count": 10,
     "metadata": {},
     "output_type": "execute_result"
    }
   ],
   "source": [
    "s.apply(lambda x: x.find(\"o\") if x.find(\"o\") != -1 else 0)"
   ]
  },
  {
   "cell_type": "code",
   "execution_count": 14,
   "id": "f9e8b477-992e-450a-8e23-f4cb1f35a959",
   "metadata": {},
   "outputs": [
    {
     "data": {
      "text/plain": [
       "0    13\n",
       "1     0\n",
       "2     4\n",
       "dtype: int64"
      ]
     },
     "execution_count": 14,
     "metadata": {},
     "output_type": "execute_result"
    }
   ],
   "source": [
    "s.apply(lambda x: x.find(\"a\") if x.find(\"a\") != -1 else 0)"
   ]
  },
  {
   "cell_type": "code",
   "execution_count": 13,
   "id": "a0cdbd35-61b6-48c6-8698-c0607e7a90bc",
   "metadata": {},
   "outputs": [
    {
     "data": {
      "text/plain": [
       "0    23\n",
       "1    21\n",
       "2     0\n",
       "dtype: object"
      ]
     },
     "execution_count": 13,
     "metadata": {},
     "output_type": "execute_result"
    }
   ],
   "source": [
    "s.apply(lambda x: x[x.find(\"o\")+2: x.find(\"o\")+4] if x.find(\"o\") != -1 else 0)"
   ]
  },
  {
   "cell_type": "code",
   "execution_count": null,
   "id": "a258c2a8-0fad-48ae-8dd7-d87380d1abc7",
   "metadata": {},
   "outputs": [],
   "source": [
    "def cuenta_espacios(x):\n",
    "    if x"
   ]
  }
 ],
 "metadata": {
  "kernelspec": {
   "display_name": "Python 3 (ipykernel)",
   "language": "python",
   "name": "python3"
  },
  "language_info": {
   "codemirror_mode": {
    "name": "ipython",
    "version": 3
   },
   "file_extension": ".py",
   "mimetype": "text/x-python",
   "name": "python",
   "nbconvert_exporter": "python",
   "pygments_lexer": "ipython3",
   "version": "3.9.7"
  }
 },
 "nbformat": 4,
 "nbformat_minor": 5
}
